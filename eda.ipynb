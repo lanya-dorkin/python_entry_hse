{
 "cells": [
  {
   "cell_type": "code",
   "execution_count": 110,
   "metadata": {},
   "outputs": [],
   "source": [
    "import pandas as pd\n",
    "import matplotlib.pyplot as plt"
   ]
  },
  {
   "cell_type": "code",
   "execution_count": 121,
   "metadata": {},
   "outputs": [],
   "source": [
    "df = pd.read_csv('parsed_data.csv')"
   ]
  },
  {
   "cell_type": "markdown",
   "metadata": {},
   "source": [
    "1. Выведите первые 5 строк датасета. (0.25). Сколько в нём строк и столбцов (0.25)?"
   ]
  },
  {
   "cell_type": "code",
   "execution_count": 122,
   "metadata": {},
   "outputs": [
    {
     "data": {
      "text/html": [
       "<div>\n",
       "<style scoped>\n",
       "    .dataframe tbody tr th:only-of-type {\n",
       "        vertical-align: middle;\n",
       "    }\n",
       "\n",
       "    .dataframe tbody tr th {\n",
       "        vertical-align: top;\n",
       "    }\n",
       "\n",
       "    .dataframe thead th {\n",
       "        text-align: right;\n",
       "    }\n",
       "</style>\n",
       "<table border=\"1\" class=\"dataframe\">\n",
       "  <thead>\n",
       "    <tr style=\"text-align: right;\">\n",
       "      <th></th>\n",
       "      <th>name</th>\n",
       "      <th>author</th>\n",
       "      <th>link</th>\n",
       "      <th>rating</th>\n",
       "      <th>rating_count</th>\n",
       "      <th>review_count</th>\n",
       "      <th>pages_count</th>\n",
       "      <th>price</th>\n",
       "      <th>text_reviews</th>\n",
       "      <th>age</th>\n",
       "      <th>year</th>\n",
       "    </tr>\n",
       "  </thead>\n",
       "  <tbody>\n",
       "    <tr>\n",
       "      <th>0</th>\n",
       "      <td>Изучаем DDD – предметно-ориентированное проект...</td>\n",
       "      <td>['Влад Хононов']</td>\n",
       "      <td>https://www.litres.ru/book/vlad-hononov/izucha...</td>\n",
       "      <td>0.0</td>\n",
       "      <td>0</td>\n",
       "      <td>1</td>\n",
       "      <td>319.0</td>\n",
       "      <td>549.0</td>\n",
       "      <td>['Эта книга из той лиги, в которой я пока не с...</td>\n",
       "      <td>0+</td>\n",
       "      <td>2022.0</td>\n",
       "    </tr>\n",
       "    <tr>\n",
       "      <th>1</th>\n",
       "      <td>Высоконагруженные приложения. Программирование...</td>\n",
       "      <td>['Мартин Клеппман']</td>\n",
       "      <td>https://www.litres.ru/book/martin-kleppman-173...</td>\n",
       "      <td>4.0</td>\n",
       "      <td>51</td>\n",
       "      <td>11</td>\n",
       "      <td>640.0</td>\n",
       "      <td>799.0</td>\n",
       "      <td>['Не могу что-либо про перевод сказать, читал ...</td>\n",
       "      <td>16+</td>\n",
       "      <td>2017.0</td>\n",
       "    </tr>\n",
       "    <tr>\n",
       "      <th>2</th>\n",
       "      <td>System Design. Подготовка к сложному интервью</td>\n",
       "      <td>['Алекс Сюй']</td>\n",
       "      <td>https://www.litres.ru/book/aleks-suy/system-de...</td>\n",
       "      <td>3.6</td>\n",
       "      <td>17</td>\n",
       "      <td>9</td>\n",
       "      <td>304.0</td>\n",
       "      <td>699.0</td>\n",
       "      <td>['Добротная книга по разработке архитектуры пр...</td>\n",
       "      <td>16+</td>\n",
       "      <td>2020.0</td>\n",
       "    </tr>\n",
       "    <tr>\n",
       "      <th>3</th>\n",
       "      <td>Начинаем программировать на Python</td>\n",
       "      <td>['Тони Гэддис']</td>\n",
       "      <td>https://www.litres.ru/book/toni-geddis-3249116...</td>\n",
       "      <td>5.0</td>\n",
       "      <td>16</td>\n",
       "      <td>6</td>\n",
       "      <td>875.0</td>\n",
       "      <td>599.0</td>\n",
       "      <td>['Шикарная книга! Начал изучать Python самосто...</td>\n",
       "      <td>12+</td>\n",
       "      <td>2021.0</td>\n",
       "    </tr>\n",
       "    <tr>\n",
       "      <th>4</th>\n",
       "      <td>Нейросети начало</td>\n",
       "      <td>['Джейд Картер']</td>\n",
       "      <td>https://www.litres.ru/book/dzheyd-karter/neyro...</td>\n",
       "      <td>4.9</td>\n",
       "      <td>440</td>\n",
       "      <td>37</td>\n",
       "      <td>102.0</td>\n",
       "      <td>690.0</td>\n",
       "      <td>['Книга отличная. Давно хотела понять как все ...</td>\n",
       "      <td>12+</td>\n",
       "      <td>2023.0</td>\n",
       "    </tr>\n",
       "  </tbody>\n",
       "</table>\n",
       "</div>"
      ],
      "text/plain": [
       "                                                name               author  \\\n",
       "0  Изучаем DDD – предметно-ориентированное проект...     ['Влад Хононов']   \n",
       "1  Высоконагруженные приложения. Программирование...  ['Мартин Клеппман']   \n",
       "2      System Design. Подготовка к сложному интервью        ['Алекс Сюй']   \n",
       "3                 Начинаем программировать на Python      ['Тони Гэддис']   \n",
       "4                                   Нейросети начало     ['Джейд Картер']   \n",
       "\n",
       "                                                link  rating  rating_count  \\\n",
       "0  https://www.litres.ru/book/vlad-hononov/izucha...     0.0             0   \n",
       "1  https://www.litres.ru/book/martin-kleppman-173...     4.0            51   \n",
       "2  https://www.litres.ru/book/aleks-suy/system-de...     3.6            17   \n",
       "3  https://www.litres.ru/book/toni-geddis-3249116...     5.0            16   \n",
       "4  https://www.litres.ru/book/dzheyd-karter/neyro...     4.9           440   \n",
       "\n",
       "   review_count  pages_count  price  \\\n",
       "0             1        319.0  549.0   \n",
       "1            11        640.0  799.0   \n",
       "2             9        304.0  699.0   \n",
       "3             6        875.0  599.0   \n",
       "4            37        102.0  690.0   \n",
       "\n",
       "                                        text_reviews  age    year  \n",
       "0  ['Эта книга из той лиги, в которой я пока не с...   0+  2022.0  \n",
       "1  ['Не могу что-либо про перевод сказать, читал ...  16+  2017.0  \n",
       "2  ['Добротная книга по разработке архитектуры пр...  16+  2020.0  \n",
       "3  ['Шикарная книга! Начал изучать Python самосто...  12+  2021.0  \n",
       "4  ['Книга отличная. Давно хотела понять как все ...  12+  2023.0  "
      ]
     },
     "execution_count": 122,
     "metadata": {},
     "output_type": "execute_result"
    }
   ],
   "source": [
    "df.head()"
   ]
  },
  {
   "cell_type": "code",
   "execution_count": 123,
   "metadata": {},
   "outputs": [
    {
     "data": {
      "text/plain": [
       "(624, 11)"
      ]
     },
     "execution_count": 123,
     "metadata": {},
     "output_type": "execute_result"
    }
   ],
   "source": [
    "df.shape"
   ]
  },
  {
   "cell_type": "markdown",
   "metadata": {},
   "source": [
    "2. Есть ли в датасете пропуски? (0.5)"
   ]
  },
  {
   "cell_type": "code",
   "execution_count": 124,
   "metadata": {},
   "outputs": [
    {
     "data": {
      "text/plain": [
       "name             0\n",
       "author           0\n",
       "link             0\n",
       "rating           0\n",
       "rating_count     0\n",
       "review_count     0\n",
       "pages_count     40\n",
       "price           21\n",
       "text_reviews     0\n",
       "age              0\n",
       "year            38\n",
       "dtype: int64"
      ]
     },
     "execution_count": 124,
     "metadata": {},
     "output_type": "execute_result"
    }
   ],
   "source": [
    "# определенно есть, парсил сам и не идеально\n",
    "df.isna().sum()"
   ]
  },
  {
   "cell_type": "code",
   "execution_count": 125,
   "metadata": {},
   "outputs": [],
   "source": [
    "# ничего лучше медианы не приходит в голову\n",
    "df.pages_count = df.pages_count.fillna(df.pages_count.median())\n",
    "df.year = df.year.fillna(df.year.median())\n",
    "df.price = df.price.fillna(df.price.median())"
   ]
  },
  {
   "cell_type": "markdown",
   "metadata": {},
   "source": [
    "3. Проверьте типы данных. Если это необходимо, приведите к типам int и float те столбцы, с которыми понадобится работать как с числами. (1)."
   ]
  },
  {
   "cell_type": "code",
   "execution_count": 126,
   "metadata": {},
   "outputs": [
    {
     "data": {
      "text/plain": [
       "name             object\n",
       "author           object\n",
       "link             object\n",
       "rating          float64\n",
       "rating_count      int64\n",
       "review_count      int64\n",
       "pages_count     float64\n",
       "price           float64\n",
       "text_reviews     object\n",
       "age              object\n",
       "year            float64\n",
       "dtype: object"
      ]
     },
     "execution_count": 126,
     "metadata": {},
     "output_type": "execute_result"
    }
   ],
   "source": [
    "df.dtypes"
   ]
  },
  {
   "cell_type": "code",
   "execution_count": 127,
   "metadata": {},
   "outputs": [],
   "source": [
    "df.pages_count = df.pages_count.astype(int)\n",
    "df.price = df.price.astype(int)\n",
    "df.year = df.year.astype(int)"
   ]
  },
  {
   "cell_type": "markdown",
   "metadata": {},
   "source": [
    "4. Выведите описательные статистики переменных. Ответьте на следующие вопросы:\n",
    "- Какая медианная цена книги в вашем датасете? (1)\n",
    "- Какое возрастное ограничение встречается чаще всего? (1)\n",
    "- Какое среднее число отзывов в книге? (1)\n",
    "- Сколько книг имеют оценку ниже 4.25? (1)\n",
    "- В каком году было написано больше всего книг из датасета? (1)"
   ]
  },
  {
   "cell_type": "code",
   "execution_count": 128,
   "metadata": {},
   "outputs": [
    {
     "data": {
      "text/plain": [
       "np.float64(499.0)"
      ]
     },
     "execution_count": 128,
     "metadata": {},
     "output_type": "execute_result"
    }
   ],
   "source": [
    "df.price.median()"
   ]
  },
  {
   "cell_type": "code",
   "execution_count": 129,
   "metadata": {},
   "outputs": [
    {
     "data": {
      "text/plain": [
       "0    0+\n",
       "Name: age, dtype: object"
      ]
     },
     "execution_count": 129,
     "metadata": {},
     "output_type": "execute_result"
    }
   ],
   "source": [
    "df.age.mode()"
   ]
  },
  {
   "cell_type": "code",
   "execution_count": 130,
   "metadata": {},
   "outputs": [
    {
     "data": {
      "text/plain": [
       "np.float64(3.3525641025641026)"
      ]
     },
     "execution_count": 130,
     "metadata": {},
     "output_type": "execute_result"
    }
   ],
   "source": [
    "df.review_count.mean()"
   ]
  },
  {
   "cell_type": "code",
   "execution_count": 131,
   "metadata": {},
   "outputs": [
    {
     "data": {
      "text/plain": [
       "(np.int64(274), np.float64(0.4391025641025641))"
      ]
     },
     "execution_count": 131,
     "metadata": {},
     "output_type": "execute_result"
    }
   ],
   "source": [
    "# абсолютное число и доля от всех\n",
    "(df.rating < 4.25).sum(), (df.rating < 4.25).mean()"
   ]
  },
  {
   "cell_type": "code",
   "execution_count": 132,
   "metadata": {},
   "outputs": [
    {
     "data": {
      "text/plain": [
       "0    2021\n",
       "Name: year, dtype: int64"
      ]
     },
     "execution_count": 132,
     "metadata": {},
     "output_type": "execute_result"
    }
   ],
   "source": [
    "df.year.mode()"
   ]
  },
  {
   "cell_type": "markdown",
   "metadata": {},
   "source": [
    "6. Создайте новое поле is_popular. Значение равно 1, если рейтинг книги не менее 4.6 и при этом у нее не менее 5 отзывов, и 0 в остальных случаях. (1)"
   ]
  },
  {
   "cell_type": "code",
   "execution_count": 133,
   "metadata": {},
   "outputs": [],
   "source": [
    "df['is_popular'] = ((df.rating >= 4.6) & (df.review_count >= 5)).astype(int)"
   ]
  },
  {
   "cell_type": "markdown",
   "metadata": {},
   "source": [
    "7. Как отличается среднее число страниц среди популярных и непопулярных книг? (2)"
   ]
  },
  {
   "cell_type": "code",
   "execution_count": 134,
   "metadata": {},
   "outputs": [
    {
     "data": {
      "text/plain": [
       "np.float64(-12.409931506849318)"
      ]
     },
     "execution_count": 134,
     "metadata": {},
     "output_type": "execute_result"
    }
   ],
   "source": [
    "# на 88 страниц меньше у популярных\n",
    "df[df.is_popular == 1].pages_count.mean() - df[df.is_popular == 0].pages_count.mean()"
   ]
  },
  {
   "cell_type": "code",
   "execution_count": 135,
   "metadata": {},
   "outputs": [
    {
     "data": {
      "text/plain": [
       "np.float64(0.9639701715137957)"
      ]
     },
     "execution_count": 135,
     "metadata": {},
     "output_type": "execute_result"
    }
   ],
   "source": [
    "# на 21 процента меньше у популярных\n",
    "df[df.is_popular == 1].pages_count.mean() / df[df.is_popular == 0].pages_count.mean()"
   ]
  },
  {
   "cell_type": "markdown",
   "metadata": {},
   "source": [
    "8. Выведите топ-10 книг по числу отзывов. (2)."
   ]
  },
  {
   "cell_type": "code",
   "execution_count": 136,
   "metadata": {},
   "outputs": [
    {
     "data": {
      "text/html": [
       "<div>\n",
       "<style scoped>\n",
       "    .dataframe tbody tr th:only-of-type {\n",
       "        vertical-align: middle;\n",
       "    }\n",
       "\n",
       "    .dataframe tbody tr th {\n",
       "        vertical-align: top;\n",
       "    }\n",
       "\n",
       "    .dataframe thead th {\n",
       "        text-align: right;\n",
       "    }\n",
       "</style>\n",
       "<table border=\"1\" class=\"dataframe\">\n",
       "  <thead>\n",
       "    <tr style=\"text-align: right;\">\n",
       "      <th></th>\n",
       "      <th>name</th>\n",
       "      <th>author</th>\n",
       "      <th>link</th>\n",
       "      <th>rating</th>\n",
       "      <th>rating_count</th>\n",
       "      <th>review_count</th>\n",
       "      <th>pages_count</th>\n",
       "      <th>price</th>\n",
       "      <th>text_reviews</th>\n",
       "      <th>age</th>\n",
       "      <th>year</th>\n",
       "      <th>is_popular</th>\n",
       "    </tr>\n",
       "  </thead>\n",
       "  <tbody>\n",
       "    <tr>\n",
       "      <th>456</th>\n",
       "      <td>Оптимизация в Python</td>\n",
       "      <td>['Джейд Картер']</td>\n",
       "      <td>https://www.litres.ru/book/dzheyd-karter/optim...</td>\n",
       "      <td>5.0</td>\n",
       "      <td>306</td>\n",
       "      <td>41</td>\n",
       "      <td>252</td>\n",
       "      <td>690</td>\n",
       "      <td>['Много интересных путей оптимизации показано....</td>\n",
       "      <td>12+</td>\n",
       "      <td>2023</td>\n",
       "      <td>1</td>\n",
       "    </tr>\n",
       "    <tr>\n",
       "      <th>4</th>\n",
       "      <td>Нейросети начало</td>\n",
       "      <td>['Джейд Картер']</td>\n",
       "      <td>https://www.litres.ru/book/dzheyd-karter/neyro...</td>\n",
       "      <td>4.9</td>\n",
       "      <td>440</td>\n",
       "      <td>37</td>\n",
       "      <td>102</td>\n",
       "      <td>690</td>\n",
       "      <td>['Книга отличная. Давно хотела понять как все ...</td>\n",
       "      <td>12+</td>\n",
       "      <td>2023</td>\n",
       "      <td>1</td>\n",
       "    </tr>\n",
       "    <tr>\n",
       "      <th>208</th>\n",
       "      <td>Психбольница в руках пациентов. Алан Купер об ...</td>\n",
       "      <td>['Алан Купер']</td>\n",
       "      <td>https://www.litres.ru/book/alan-kuper/psihboln...</td>\n",
       "      <td>4.0</td>\n",
       "      <td>64</td>\n",
       "      <td>30</td>\n",
       "      <td>502</td>\n",
       "      <td>599</td>\n",
       "      <td>['хорошая книжка, но уже немного подотстает от...</td>\n",
       "      <td>16+</td>\n",
       "      <td>2004</td>\n",
       "      <td>0</td>\n",
       "    </tr>\n",
       "    <tr>\n",
       "      <th>125</th>\n",
       "      <td>Теоретический минимум по Computer Science. Все...</td>\n",
       "      <td>['Владстон Феррейра Фило']</td>\n",
       "      <td>https://www.litres.ru/book/vladston-ferreyra-f...</td>\n",
       "      <td>3.9</td>\n",
       "      <td>94</td>\n",
       "      <td>28</td>\n",
       "      <td>224</td>\n",
       "      <td>599</td>\n",
       "      <td>['Прекрасная книга. Рекомендовал и старшим шко...</td>\n",
       "      <td>16+</td>\n",
       "      <td>2017</td>\n",
       "      <td>0</td>\n",
       "    </tr>\n",
       "    <tr>\n",
       "      <th>350</th>\n",
       "      <td>Идеальный программист. Как стать профессионало...</td>\n",
       "      <td>['Роберт Мартин']</td>\n",
       "      <td>https://www.litres.ru/book/robert-s-martin/ide...</td>\n",
       "      <td>4.6</td>\n",
       "      <td>191</td>\n",
       "      <td>27</td>\n",
       "      <td>247</td>\n",
       "      <td>449</td>\n",
       "      <td>['Книга – истинный кладезь премудрости для опт...</td>\n",
       "      <td>12+</td>\n",
       "      <td>2011</td>\n",
       "      <td>1</td>\n",
       "    </tr>\n",
       "    <tr>\n",
       "      <th>496</th>\n",
       "      <td>Говорят, в IT много платят. Как построить успе...</td>\n",
       "      <td>['Елена Правдина']</td>\n",
       "      <td>https://www.litres.ru/book/elena-pravdina-2543...</td>\n",
       "      <td>4.3</td>\n",
       "      <td>66</td>\n",
       "      <td>27</td>\n",
       "      <td>291</td>\n",
       "      <td>379</td>\n",
       "      <td>['Книга написана профессиональным специалистом...</td>\n",
       "      <td>16+</td>\n",
       "      <td>2021</td>\n",
       "      <td>0</td>\n",
       "    </tr>\n",
       "    <tr>\n",
       "      <th>434</th>\n",
       "      <td>Базовые знания тестировщика веб-приложений</td>\n",
       "      <td>['Марина Охапкина', 'Вадим Охапкин']</td>\n",
       "      <td>https://www.litres.ru/book/vadim-ohapkin/bazov...</td>\n",
       "      <td>4.5</td>\n",
       "      <td>237</td>\n",
       "      <td>25</td>\n",
       "      <td>67</td>\n",
       "      <td>499</td>\n",
       "      <td>['Из любопытства просмотрела книгу и, как опыт...</td>\n",
       "      <td>12+</td>\n",
       "      <td>2015</td>\n",
       "      <td>0</td>\n",
       "    </tr>\n",
       "    <tr>\n",
       "      <th>151</th>\n",
       "      <td>#Сам себе программист. Как научиться программи...</td>\n",
       "      <td>['Кори Альтхофф']</td>\n",
       "      <td>https://www.litres.ru/book/kori-althoff/sam-se...</td>\n",
       "      <td>4.2</td>\n",
       "      <td>128</td>\n",
       "      <td>25</td>\n",
       "      <td>210</td>\n",
       "      <td>299</td>\n",
       "      <td>['Отличная книга чтобы начать программировать,...</td>\n",
       "      <td>12+</td>\n",
       "      <td>2017</td>\n",
       "      <td>0</td>\n",
       "    </tr>\n",
       "    <tr>\n",
       "      <th>231</th>\n",
       "      <td>Сделай видеоигру один и не свихнись</td>\n",
       "      <td>['Слава Грис']</td>\n",
       "      <td>https://www.litres.ru/audiobook/slava-gris/sde...</td>\n",
       "      <td>4.9</td>\n",
       "      <td>73</td>\n",
       "      <td>24</td>\n",
       "      <td>304</td>\n",
       "      <td>529</td>\n",
       "      <td>['Начну со слов \"Слава - моё почтение\".', 'Дей...</td>\n",
       "      <td>12+</td>\n",
       "      <td>2023</td>\n",
       "      <td>1</td>\n",
       "    </tr>\n",
       "    <tr>\n",
       "      <th>43</th>\n",
       "      <td>Сделай видеоигру один и не свихнись</td>\n",
       "      <td>['Слава Грис']</td>\n",
       "      <td>https://www.litres.ru/book/slava-gris/sdelay-v...</td>\n",
       "      <td>4.8</td>\n",
       "      <td>86</td>\n",
       "      <td>24</td>\n",
       "      <td>242</td>\n",
       "      <td>499</td>\n",
       "      <td>['Отличная книга для инди-разработчиков! Must ...</td>\n",
       "      <td>12+</td>\n",
       "      <td>2023</td>\n",
       "      <td>1</td>\n",
       "    </tr>\n",
       "  </tbody>\n",
       "</table>\n",
       "</div>"
      ],
      "text/plain": [
       "                                                  name  \\\n",
       "456                               Оптимизация в Python   \n",
       "4                                     Нейросети начало   \n",
       "208  Психбольница в руках пациентов. Алан Купер об ...   \n",
       "125  Теоретический минимум по Computer Science. Все...   \n",
       "350  Идеальный программист. Как стать профессионало...   \n",
       "496  Говорят, в IT много платят. Как построить успе...   \n",
       "434         Базовые знания тестировщика веб-приложений   \n",
       "151  #Сам себе программист. Как научиться программи...   \n",
       "231                Сделай видеоигру один и не свихнись   \n",
       "43                 Сделай видеоигру один и не свихнись   \n",
       "\n",
       "                                   author  \\\n",
       "456                      ['Джейд Картер']   \n",
       "4                        ['Джейд Картер']   \n",
       "208                        ['Алан Купер']   \n",
       "125            ['Владстон Феррейра Фило']   \n",
       "350                     ['Роберт Мартин']   \n",
       "496                    ['Елена Правдина']   \n",
       "434  ['Марина Охапкина', 'Вадим Охапкин']   \n",
       "151                     ['Кори Альтхофф']   \n",
       "231                        ['Слава Грис']   \n",
       "43                         ['Слава Грис']   \n",
       "\n",
       "                                                  link  rating  rating_count  \\\n",
       "456  https://www.litres.ru/book/dzheyd-karter/optim...     5.0           306   \n",
       "4    https://www.litres.ru/book/dzheyd-karter/neyro...     4.9           440   \n",
       "208  https://www.litres.ru/book/alan-kuper/psihboln...     4.0            64   \n",
       "125  https://www.litres.ru/book/vladston-ferreyra-f...     3.9            94   \n",
       "350  https://www.litres.ru/book/robert-s-martin/ide...     4.6           191   \n",
       "496  https://www.litres.ru/book/elena-pravdina-2543...     4.3            66   \n",
       "434  https://www.litres.ru/book/vadim-ohapkin/bazov...     4.5           237   \n",
       "151  https://www.litres.ru/book/kori-althoff/sam-se...     4.2           128   \n",
       "231  https://www.litres.ru/audiobook/slava-gris/sde...     4.9            73   \n",
       "43   https://www.litres.ru/book/slava-gris/sdelay-v...     4.8            86   \n",
       "\n",
       "     review_count  pages_count  price  \\\n",
       "456            41          252    690   \n",
       "4              37          102    690   \n",
       "208            30          502    599   \n",
       "125            28          224    599   \n",
       "350            27          247    449   \n",
       "496            27          291    379   \n",
       "434            25           67    499   \n",
       "151            25          210    299   \n",
       "231            24          304    529   \n",
       "43             24          242    499   \n",
       "\n",
       "                                          text_reviews  age  year  is_popular  \n",
       "456  ['Много интересных путей оптимизации показано....  12+  2023           1  \n",
       "4    ['Книга отличная. Давно хотела понять как все ...  12+  2023           1  \n",
       "208  ['хорошая книжка, но уже немного подотстает от...  16+  2004           0  \n",
       "125  ['Прекрасная книга. Рекомендовал и старшим шко...  16+  2017           0  \n",
       "350  ['Книга – истинный кладезь премудрости для опт...  12+  2011           1  \n",
       "496  ['Книга написана профессиональным специалистом...  16+  2021           0  \n",
       "434  ['Из любопытства просмотрела книгу и, как опыт...  12+  2015           0  \n",
       "151  ['Отличная книга чтобы начать программировать,...  12+  2017           0  \n",
       "231  ['Начну со слов \"Слава - моё почтение\".', 'Дей...  12+  2023           1  \n",
       "43   ['Отличная книга для инди-разработчиков! Must ...  12+  2023           1  "
      ]
     },
     "execution_count": 136,
     "metadata": {},
     "output_type": "execute_result"
    }
   ],
   "source": [
    "df.sort_values('review_count', ascending=False).head(10)"
   ]
  },
  {
   "cell_type": "markdown",
   "metadata": {},
   "source": [
    "9. Найдите среднюю длину отзыва (в символах). (2)"
   ]
  },
  {
   "cell_type": "code",
   "execution_count": 137,
   "metadata": {},
   "outputs": [
    {
     "data": {
      "text/plain": [
       "str"
      ]
     },
     "execution_count": 137,
     "metadata": {},
     "output_type": "execute_result"
    }
   ],
   "source": [
    "type(df.text_reviews.iloc[0])"
   ]
  },
  {
   "cell_type": "code",
   "execution_count": 138,
   "metadata": {},
   "outputs": [],
   "source": [
    "df.text_reviews = df.text_reviews.apply(eval)"
   ]
  },
  {
   "cell_type": "code",
   "execution_count": 139,
   "metadata": {},
   "outputs": [
    {
     "data": {
      "text/plain": [
       "np.float64(214.32492307692308)"
      ]
     },
     "execution_count": 139,
     "metadata": {},
     "output_type": "execute_result"
    }
   ],
   "source": [
    "df.text_reviews.explode().fillna('').apply(len).mean()"
   ]
  },
  {
   "cell_type": "markdown",
   "metadata": {},
   "source": [
    "10. Постройте таблицу корреляций числовых переменных. (1) Прокомментируйте результаты. (1)"
   ]
  },
  {
   "cell_type": "code",
   "execution_count": 140,
   "metadata": {},
   "outputs": [
    {
     "data": {
      "text/html": [
       "<div>\n",
       "<style scoped>\n",
       "    .dataframe tbody tr th:only-of-type {\n",
       "        vertical-align: middle;\n",
       "    }\n",
       "\n",
       "    .dataframe tbody tr th {\n",
       "        vertical-align: top;\n",
       "    }\n",
       "\n",
       "    .dataframe thead th {\n",
       "        text-align: right;\n",
       "    }\n",
       "</style>\n",
       "<table border=\"1\" class=\"dataframe\">\n",
       "  <thead>\n",
       "    <tr style=\"text-align: right;\">\n",
       "      <th></th>\n",
       "      <th>rating</th>\n",
       "      <th>rating_count</th>\n",
       "      <th>review_count</th>\n",
       "      <th>pages_count</th>\n",
       "      <th>price</th>\n",
       "      <th>year</th>\n",
       "      <th>is_popular</th>\n",
       "    </tr>\n",
       "  </thead>\n",
       "  <tbody>\n",
       "    <tr>\n",
       "      <th>rating</th>\n",
       "      <td>1.000000</td>\n",
       "      <td>0.175606</td>\n",
       "      <td>0.191989</td>\n",
       "      <td>0.040221</td>\n",
       "      <td>-0.000413</td>\n",
       "      <td>-0.117522</td>\n",
       "      <td>0.167710</td>\n",
       "    </tr>\n",
       "    <tr>\n",
       "      <th>rating_count</th>\n",
       "      <td>0.175606</td>\n",
       "      <td>1.000000</td>\n",
       "      <td>0.667862</td>\n",
       "      <td>-0.052195</td>\n",
       "      <td>0.100473</td>\n",
       "      <td>0.025463</td>\n",
       "      <td>0.562880</td>\n",
       "    </tr>\n",
       "    <tr>\n",
       "      <th>review_count</th>\n",
       "      <td>0.191989</td>\n",
       "      <td>0.667862</td>\n",
       "      <td>1.000000</td>\n",
       "      <td>0.028659</td>\n",
       "      <td>0.079047</td>\n",
       "      <td>-0.125275</td>\n",
       "      <td>0.410572</td>\n",
       "    </tr>\n",
       "    <tr>\n",
       "      <th>pages_count</th>\n",
       "      <td>0.040221</td>\n",
       "      <td>-0.052195</td>\n",
       "      <td>0.028659</td>\n",
       "      <td>1.000000</td>\n",
       "      <td>0.368972</td>\n",
       "      <td>-0.188646</td>\n",
       "      <td>-0.014055</td>\n",
       "    </tr>\n",
       "    <tr>\n",
       "      <th>price</th>\n",
       "      <td>-0.000413</td>\n",
       "      <td>0.100473</td>\n",
       "      <td>0.079047</td>\n",
       "      <td>0.368972</td>\n",
       "      <td>1.000000</td>\n",
       "      <td>0.125216</td>\n",
       "      <td>0.072451</td>\n",
       "    </tr>\n",
       "    <tr>\n",
       "      <th>year</th>\n",
       "      <td>-0.117522</td>\n",
       "      <td>0.025463</td>\n",
       "      <td>-0.125275</td>\n",
       "      <td>-0.188646</td>\n",
       "      <td>0.125216</td>\n",
       "      <td>1.000000</td>\n",
       "      <td>0.097297</td>\n",
       "    </tr>\n",
       "    <tr>\n",
       "      <th>is_popular</th>\n",
       "      <td>0.167710</td>\n",
       "      <td>0.562880</td>\n",
       "      <td>0.410572</td>\n",
       "      <td>-0.014055</td>\n",
       "      <td>0.072451</td>\n",
       "      <td>0.097297</td>\n",
       "      <td>1.000000</td>\n",
       "    </tr>\n",
       "  </tbody>\n",
       "</table>\n",
       "</div>"
      ],
      "text/plain": [
       "                rating  rating_count  review_count  pages_count     price  \\\n",
       "rating        1.000000      0.175606      0.191989     0.040221 -0.000413   \n",
       "rating_count  0.175606      1.000000      0.667862    -0.052195  0.100473   \n",
       "review_count  0.191989      0.667862      1.000000     0.028659  0.079047   \n",
       "pages_count   0.040221     -0.052195      0.028659     1.000000  0.368972   \n",
       "price        -0.000413      0.100473      0.079047     0.368972  1.000000   \n",
       "year         -0.117522      0.025463     -0.125275    -0.188646  0.125216   \n",
       "is_popular    0.167710      0.562880      0.410572    -0.014055  0.072451   \n",
       "\n",
       "                  year  is_popular  \n",
       "rating       -0.117522    0.167710  \n",
       "rating_count  0.025463    0.562880  \n",
       "review_count -0.125275    0.410572  \n",
       "pages_count  -0.188646   -0.014055  \n",
       "price         0.125216    0.072451  \n",
       "year          1.000000    0.097297  \n",
       "is_popular    0.097297    1.000000  "
      ]
     },
     "execution_count": 140,
     "metadata": {},
     "output_type": "execute_result"
    }
   ],
   "source": [
    "df.loc[:, df.dtypes[df.dtypes != object].index].corr()"
   ]
  },
  {
   "cell_type": "markdown",
   "metadata": {},
   "source": [
    "- популярность и кол-во оценок, кол-во отзывов. интуитивно кажется логичным: люди больше взаимодействуют с популярными книгами\n",
    "- кол-во отзывов и кол-во оценок. логично\n",
    "- рейтинг и кол-во оценок, отзывов, популярность. предположу, что популярное в среднем лучше оценивают \n",
    "- цена и кол-во страниц. натянутая гипотеза: длиннее книга, дороже печатать, значит, надо и продать дороже (хотя книги электронные, больше байтов по сети передавать что ли..)"
   ]
  },
  {
   "cell_type": "markdown",
   "metadata": {},
   "source": [
    "11. Постройте диаграмму рассеяния (scatterplot) количества страниц и количества отзывов. Не забудьте подписать график и оси. (1) Прокомментируйте полученные результаты. (1)"
   ]
  },
  {
   "cell_type": "code",
   "execution_count": 141,
   "metadata": {},
   "outputs": [
    {
     "data": {
      "image/png": "[encoded data removed]",
      "text/plain": [
       "<Figure size 640x480 with 1 Axes>"
      ]
     },
     "metadata": {},
     "output_type": "display_data"
    }
   ],
   "source": [
    "df.plot.scatter('pages_count', 'review_count')\n",
    "plt.title('Диаграмма рассеяния количества страниц и количества отзывов')\n",
    "plt.xlabel('Количество страниц')\n",
    "plt.ylabel('Количество отзывов')\n",
    "plt.grid()\n",
    "plt.show()"
   ]
  },
  {
   "cell_type": "markdown",
   "metadata": {},
   "source": []
  },
  {
   "cell_type": "markdown",
   "metadata": {},
   "source": [
    "12. Постройте линейный график: по оси Х год, по оси Y количество книг. (1) Прокомментируйте. (1)"
   ]
  },
  {
   "cell_type": "code",
   "execution_count": 145,
   "metadata": {},
   "outputs": [
    {
     "data": {
      "image/png": "[encoded data removed]",
      "text/plain": [
       "<Figure size 640x480 with 1 Axes>"
      ]
     },
     "metadata": {},
     "output_type": "display_data"
    }
   ],
   "source": [
    "df.groupby('year').size().plot()\n",
    "plt.grid()\n",
    "plt.title('Количество книг')\n",
    "plt.xlabel('Год')\n",
    "plt.show()"
   ]
  },
  {
   "cell_type": "markdown",
   "metadata": {},
   "source": []
  },
  {
   "cell_type": "markdown",
   "metadata": {},
   "source": [
    "13. Постройте еще любые два графика по вашему усмотрению. (2) Прокомментируйте полученные результаты. (1.5)"
   ]
  },
  {
   "cell_type": "markdown",
   "metadata": {},
   "source": [
    "14. Постройте таблицу с авторами книг с именем автора, количество книг в датасете, средней оценкой книг, средним количеством отзывов. (2)."
   ]
  },
  {
   "cell_type": "markdown",
   "metadata": {},
   "source": [
    "15. Что еще интересного можно увидеть в этом датасете? Просмотрите на данные и ответьте на какие-нибудь вопросы, на которые не ответили в предыдущим пункте. Мы никак не ограничиваем вашу фантазию! (3)."
   ]
  }
 ],
 "metadata": {
  "kernelspec": {
   "display_name": "python-entry-hse-JZsjHBha-py3.10",
   "language": "python",
   "name": "python3"
  },
  "language_info": {
   "codemirror_mode": {
    "name": "ipython",
    "version": 3
   },
   "file_extension": ".py",
   "mimetype": "text/x-python",
   "name": "python",
   "nbconvert_exporter": "python",
   "pygments_lexer": "ipython3",
   "version": "3.10.12"
  }
 },
 "nbformat": 4,
 "nbformat_minor": 2
}

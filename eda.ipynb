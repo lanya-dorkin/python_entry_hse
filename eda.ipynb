{
 "cells": [
  {
   "cell_type": "code",
   "execution_count": 1,
   "metadata": {},
   "outputs": [],
   "source": [
    "import pandas as pd\n",
    "import matplotlib.pyplot as plt"
   ]
  },
  {
   "cell_type": "code",
   "execution_count": 2,
   "metadata": {},
   "outputs": [],
   "source": [
    "df = pd.read_csv('parsed_data.csv')"
   ]
  },
  {
   "cell_type": "markdown",
   "metadata": {},
   "source": [
    "1. Выведите первые 5 строк датасета. (0.25). Сколько в нём строк и столбцов (0.25)?"
   ]
  },
  {
   "cell_type": "code",
   "execution_count": 3,
   "metadata": {},
   "outputs": [
    {
     "data": {
      "text/html": [
       "<div>\n",
       "<style scoped>\n",
       "    .dataframe tbody tr th:only-of-type {\n",
       "        vertical-align: middle;\n",
       "    }\n",
       "\n",
       "    .dataframe tbody tr th {\n",
       "        vertical-align: top;\n",
       "    }\n",
       "\n",
       "    .dataframe thead th {\n",
       "        text-align: right;\n",
       "    }\n",
       "</style>\n",
       "<table border=\"1\" class=\"dataframe\">\n",
       "  <thead>\n",
       "    <tr style=\"text-align: right;\">\n",
       "      <th></th>\n",
       "      <th>name</th>\n",
       "      <th>author</th>\n",
       "      <th>link</th>\n",
       "      <th>rating</th>\n",
       "      <th>rating_count</th>\n",
       "      <th>review_count</th>\n",
       "      <th>pages_count</th>\n",
       "      <th>price</th>\n",
       "      <th>text_reviews</th>\n",
       "      <th>age</th>\n",
       "      <th>year</th>\n",
       "    </tr>\n",
       "  </thead>\n",
       "  <tbody>\n",
       "    <tr>\n",
       "      <th>0</th>\n",
       "      <td>Изучаем DDD – предметно-ориентированное проект...</td>\n",
       "      <td>['Влад Хононов']</td>\n",
       "      <td>https://www.litres.ru/book/vlad-hononov/izucha...</td>\n",
       "      <td>0.0</td>\n",
       "      <td>0</td>\n",
       "      <td>1</td>\n",
       "      <td>319.0</td>\n",
       "      <td>549.0</td>\n",
       "      <td>['Эта книга из той лиги, в которой я пока не с...</td>\n",
       "      <td>0+</td>\n",
       "      <td>2022.0</td>\n",
       "    </tr>\n",
       "    <tr>\n",
       "      <th>1</th>\n",
       "      <td>Высоконагруженные приложения. Программирование...</td>\n",
       "      <td>['Мартин Клеппман']</td>\n",
       "      <td>https://www.litres.ru/book/martin-kleppman-173...</td>\n",
       "      <td>4.0</td>\n",
       "      <td>51</td>\n",
       "      <td>11</td>\n",
       "      <td>640.0</td>\n",
       "      <td>799.0</td>\n",
       "      <td>['Не могу что-либо про перевод сказать, читал ...</td>\n",
       "      <td>16+</td>\n",
       "      <td>2017.0</td>\n",
       "    </tr>\n",
       "    <tr>\n",
       "      <th>2</th>\n",
       "      <td>System Design. Подготовка к сложному интервью</td>\n",
       "      <td>['Алекс Сюй']</td>\n",
       "      <td>https://www.litres.ru/book/aleks-suy/system-de...</td>\n",
       "      <td>3.6</td>\n",
       "      <td>17</td>\n",
       "      <td>9</td>\n",
       "      <td>304.0</td>\n",
       "      <td>699.0</td>\n",
       "      <td>['Добротная книга по разработке архитектуры пр...</td>\n",
       "      <td>16+</td>\n",
       "      <td>2020.0</td>\n",
       "    </tr>\n",
       "    <tr>\n",
       "      <th>3</th>\n",
       "      <td>Начинаем программировать на Python</td>\n",
       "      <td>['Тони Гэддис']</td>\n",
       "      <td>https://www.litres.ru/book/toni-geddis-3249116...</td>\n",
       "      <td>5.0</td>\n",
       "      <td>16</td>\n",
       "      <td>6</td>\n",
       "      <td>875.0</td>\n",
       "      <td>599.0</td>\n",
       "      <td>['Шикарная книга! Начал изучать Python самосто...</td>\n",
       "      <td>12+</td>\n",
       "      <td>2021.0</td>\n",
       "    </tr>\n",
       "    <tr>\n",
       "      <th>4</th>\n",
       "      <td>Нейросети начало</td>\n",
       "      <td>['Джейд Картер']</td>\n",
       "      <td>https://www.litres.ru/book/dzheyd-karter/neyro...</td>\n",
       "      <td>4.9</td>\n",
       "      <td>440</td>\n",
       "      <td>37</td>\n",
       "      <td>102.0</td>\n",
       "      <td>690.0</td>\n",
       "      <td>['Книга отличная. Давно хотела понять как все ...</td>\n",
       "      <td>12+</td>\n",
       "      <td>2023.0</td>\n",
       "    </tr>\n",
       "  </tbody>\n",
       "</table>\n",
       "</div>"
      ],
      "text/plain": [
       "                                                name               author  \\\n",
       "0  Изучаем DDD – предметно-ориентированное проект...     ['Влад Хононов']   \n",
       "1  Высоконагруженные приложения. Программирование...  ['Мартин Клеппман']   \n",
       "2      System Design. Подготовка к сложному интервью        ['Алекс Сюй']   \n",
       "3                 Начинаем программировать на Python      ['Тони Гэддис']   \n",
       "4                                   Нейросети начало     ['Джейд Картер']   \n",
       "\n",
       "                                                link  rating  rating_count  \\\n",
       "0  https://www.litres.ru/book/vlad-hononov/izucha...     0.0             0   \n",
       "1  https://www.litres.ru/book/martin-kleppman-173...     4.0            51   \n",
       "2  https://www.litres.ru/book/aleks-suy/system-de...     3.6            17   \n",
       "3  https://www.litres.ru/book/toni-geddis-3249116...     5.0            16   \n",
       "4  https://www.litres.ru/book/dzheyd-karter/neyro...     4.9           440   \n",
       "\n",
       "   review_count  pages_count  price  \\\n",
       "0             1        319.0  549.0   \n",
       "1            11        640.0  799.0   \n",
       "2             9        304.0  699.0   \n",
       "3             6        875.0  599.0   \n",
       "4            37        102.0  690.0   \n",
       "\n",
       "                                        text_reviews  age    year  \n",
       "0  ['Эта книга из той лиги, в которой я пока не с...   0+  2022.0  \n",
       "1  ['Не могу что-либо про перевод сказать, читал ...  16+  2017.0  \n",
       "2  ['Добротная книга по разработке архитектуры пр...  16+  2020.0  \n",
       "3  ['Шикарная книга! Начал изучать Python самосто...  12+  2021.0  \n",
       "4  ['Книга отличная. Давно хотела понять как все ...  12+  2023.0  "
      ]
     },
     "execution_count": 3,
     "metadata": {},
     "output_type": "execute_result"
    }
   ],
   "source": [
    "df.head()"
   ]
  },
  {
   "cell_type": "code",
   "execution_count": 4,
   "metadata": {},
   "outputs": [
    {
     "data": {
      "text/plain": [
       "(960, 11)"
      ]
     },
     "execution_count": 4,
     "metadata": {},
     "output_type": "execute_result"
    }
   ],
   "source": [
    "df.shape"
   ]
  },
  {
   "cell_type": "markdown",
   "metadata": {},
   "source": [
    "2. Есть ли в датасете пропуски? (0.5)"
   ]
  },
  {
   "cell_type": "code",
   "execution_count": 5,
   "metadata": {},
   "outputs": [
    {
     "data": {
      "text/plain": [
       "name             0\n",
       "author           0\n",
       "link             0\n",
       "rating           0\n",
       "rating_count     0\n",
       "review_count     0\n",
       "pages_count     48\n",
       "price           24\n",
       "text_reviews     0\n",
       "age              0\n",
       "year            46\n",
       "dtype: int64"
      ]
     },
     "execution_count": 5,
     "metadata": {},
     "output_type": "execute_result"
    }
   ],
   "source": [
    "# определенно есть, парсил сам и не идеально\n",
    "df.isna().sum()"
   ]
  },
  {
   "cell_type": "code",
   "execution_count": 6,
   "metadata": {},
   "outputs": [],
   "source": [
    "# ничего лучше медианы не приходит в голову\n",
    "df.pages_count = df.pages_count.fillna(df.pages_count.median())\n",
    "df.year = df.year.fillna(df.year.median())\n",
    "df.price = df.price.fillna(df.price.median())"
   ]
  },
  {
   "cell_type": "markdown",
   "metadata": {},
   "source": [
    "3. Проверьте типы данных. Если это необходимо, приведите к типам int и float те столбцы, с которыми понадобится работать как с числами. (1)."
   ]
  },
  {
   "cell_type": "code",
   "execution_count": 7,
   "metadata": {},
   "outputs": [
    {
     "data": {
      "text/plain": [
       "name             object\n",
       "author           object\n",
       "link             object\n",
       "rating          float64\n",
       "rating_count      int64\n",
       "review_count      int64\n",
       "pages_count     float64\n",
       "price           float64\n",
       "text_reviews     object\n",
       "age              object\n",
       "year            float64\n",
       "dtype: object"
      ]
     },
     "execution_count": 7,
     "metadata": {},
     "output_type": "execute_result"
    }
   ],
   "source": [
    "df.dtypes"
   ]
  },
  {
   "cell_type": "code",
   "execution_count": 8,
   "metadata": {},
   "outputs": [],
   "source": [
    "df.pages_count = df.pages_count.astype(int)\n",
    "df.price = df.price.astype(int)\n",
    "df.year = df.year.astype(int)"
   ]
  },
  {
   "cell_type": "markdown",
   "metadata": {},
   "source": [
    "4. Выведите описательные статистики переменных. Ответьте на следующие вопросы:\n",
    "- Какая медианная цена книги в вашем датасете? (1)\n",
    "- Какое возрастное ограничение встречается чаще всего? (1)\n",
    "- Какое среднее число отзывов в книге? (1)\n",
    "- Сколько книг имеют оценку ниже 4.25? (1)\n",
    "- В каком году было написано больше всего книг из датасета? (1)"
   ]
  },
  {
   "cell_type": "code",
   "execution_count": 9,
   "metadata": {},
   "outputs": [
    {
     "data": {
      "text/plain": [
       "np.float64(349.0)"
      ]
     },
     "execution_count": 9,
     "metadata": {},
     "output_type": "execute_result"
    }
   ],
   "source": [
    "df.price.median()"
   ]
  },
  {
   "cell_type": "code",
   "execution_count": 10,
   "metadata": {},
   "outputs": [
    {
     "data": {
      "text/plain": [
       "0    0+\n",
       "Name: age, dtype: object"
      ]
     },
     "execution_count": 10,
     "metadata": {},
     "output_type": "execute_result"
    }
   ],
   "source": [
    "df.age.mode()"
   ]
  },
  {
   "cell_type": "code",
   "execution_count": 11,
   "metadata": {},
   "outputs": [
    {
     "data": {
      "text/plain": [
       "np.float64(2.31875)"
      ]
     },
     "execution_count": 11,
     "metadata": {},
     "output_type": "execute_result"
    }
   ],
   "source": [
    "df.review_count.mean()"
   ]
  },
  {
   "cell_type": "code",
   "execution_count": 12,
   "metadata": {},
   "outputs": [
    {
     "data": {
      "text/plain": [
       "(np.int64(551), np.float64(0.5739583333333333))"
      ]
     },
     "execution_count": 12,
     "metadata": {},
     "output_type": "execute_result"
    }
   ],
   "source": [
    "# абсолютное число и доля от всех\n",
    "(df.rating < 4.25).sum(), (df.rating < 4.25).mean()"
   ]
  },
  {
   "cell_type": "code",
   "execution_count": 13,
   "metadata": {},
   "outputs": [
    {
     "data": {
      "text/plain": [
       "0    2023\n",
       "Name: year, dtype: int64"
      ]
     },
     "execution_count": 13,
     "metadata": {},
     "output_type": "execute_result"
    }
   ],
   "source": [
    "df.year.mode()"
   ]
  },
  {
   "cell_type": "markdown",
   "metadata": {},
   "source": [
    "6. Создайте новое поле is_popular. Значение равно 1, если рейтинг книги не менее 4.6 и при этом у нее не менее 5 отзывов, и 0 в остальных случаях. (1)"
   ]
  },
  {
   "cell_type": "code",
   "execution_count": 14,
   "metadata": {},
   "outputs": [],
   "source": [
    "df['is_popular'] = ((df.rating >= 4.6) & (df.review_count >= 5)).astype(int)"
   ]
  },
  {
   "cell_type": "markdown",
   "metadata": {},
   "source": [
    "7. Как отличается среднее число страниц среди популярных и непопулярных книг? (2)"
   ]
  },
  {
   "cell_type": "code",
   "execution_count": 15,
   "metadata": {},
   "outputs": [
    {
     "data": {
      "text/plain": [
       "np.float64(82.09437617771175)"
      ]
     },
     "execution_count": 15,
     "metadata": {},
     "output_type": "execute_result"
    }
   ],
   "source": [
    "# на 82 страницы больше у популярных\n",
    "df[df.is_popular == 1].pages_count.mean() - df[df.is_popular == 0].pages_count.mean()"
   ]
  },
  {
   "cell_type": "code",
   "execution_count": 16,
   "metadata": {},
   "outputs": [
    {
     "data": {
      "text/plain": [
       "np.float64(1.3282132195302334)"
      ]
     },
     "execution_count": 16,
     "metadata": {},
     "output_type": "execute_result"
    }
   ],
   "source": [
    "# на 33 процента больше у популярных\n",
    "df[df.is_popular == 1].pages_count.mean() / df[df.is_popular == 0].pages_count.mean()"
   ]
  },
  {
   "cell_type": "markdown",
   "metadata": {},
   "source": [
    "8. Выведите топ-10 книг по числу отзывов. (2)."
   ]
  },
  {
   "cell_type": "code",
   "execution_count": 17,
   "metadata": {},
   "outputs": [
    {
     "data": {
      "text/html": [
       "<div>\n",
       "<style scoped>\n",
       "    .dataframe tbody tr th:only-of-type {\n",
       "        vertical-align: middle;\n",
       "    }\n",
       "\n",
       "    .dataframe tbody tr th {\n",
       "        vertical-align: top;\n",
       "    }\n",
       "\n",
       "    .dataframe thead th {\n",
       "        text-align: right;\n",
       "    }\n",
       "</style>\n",
       "<table border=\"1\" class=\"dataframe\">\n",
       "  <thead>\n",
       "    <tr style=\"text-align: right;\">\n",
       "      <th></th>\n",
       "      <th>name</th>\n",
       "      <th>author</th>\n",
       "      <th>link</th>\n",
       "      <th>rating</th>\n",
       "      <th>rating_count</th>\n",
       "      <th>review_count</th>\n",
       "      <th>pages_count</th>\n",
       "      <th>price</th>\n",
       "      <th>text_reviews</th>\n",
       "      <th>age</th>\n",
       "      <th>year</th>\n",
       "      <th>is_popular</th>\n",
       "    </tr>\n",
       "  </thead>\n",
       "  <tbody>\n",
       "    <tr>\n",
       "      <th>456</th>\n",
       "      <td>Оптимизация в Python</td>\n",
       "      <td>['Джейд Картер']</td>\n",
       "      <td>https://www.litres.ru/book/dzheyd-karter/optim...</td>\n",
       "      <td>5.0</td>\n",
       "      <td>306</td>\n",
       "      <td>41</td>\n",
       "      <td>252</td>\n",
       "      <td>690</td>\n",
       "      <td>['Много интересных путей оптимизации показано....</td>\n",
       "      <td>12+</td>\n",
       "      <td>2023</td>\n",
       "      <td>1</td>\n",
       "    </tr>\n",
       "    <tr>\n",
       "      <th>4</th>\n",
       "      <td>Нейросети начало</td>\n",
       "      <td>['Джейд Картер']</td>\n",
       "      <td>https://www.litres.ru/book/dzheyd-karter/neyro...</td>\n",
       "      <td>4.9</td>\n",
       "      <td>440</td>\n",
       "      <td>37</td>\n",
       "      <td>102</td>\n",
       "      <td>690</td>\n",
       "      <td>['Книга отличная. Давно хотела понять как все ...</td>\n",
       "      <td>12+</td>\n",
       "      <td>2023</td>\n",
       "      <td>1</td>\n",
       "    </tr>\n",
       "    <tr>\n",
       "      <th>208</th>\n",
       "      <td>Психбольница в руках пациентов. Алан Купер об ...</td>\n",
       "      <td>['Алан Купер']</td>\n",
       "      <td>https://www.litres.ru/book/alan-kuper/psihboln...</td>\n",
       "      <td>4.0</td>\n",
       "      <td>64</td>\n",
       "      <td>30</td>\n",
       "      <td>502</td>\n",
       "      <td>599</td>\n",
       "      <td>['хорошая книжка, но уже немного подотстает от...</td>\n",
       "      <td>16+</td>\n",
       "      <td>2004</td>\n",
       "      <td>0</td>\n",
       "    </tr>\n",
       "    <tr>\n",
       "      <th>125</th>\n",
       "      <td>Теоретический минимум по Computer Science. Все...</td>\n",
       "      <td>['Владстон Феррейра Фило']</td>\n",
       "      <td>https://www.litres.ru/book/vladston-ferreyra-f...</td>\n",
       "      <td>3.9</td>\n",
       "      <td>94</td>\n",
       "      <td>28</td>\n",
       "      <td>224</td>\n",
       "      <td>599</td>\n",
       "      <td>['Прекрасная книга. Рекомендовал и старшим шко...</td>\n",
       "      <td>16+</td>\n",
       "      <td>2017</td>\n",
       "      <td>0</td>\n",
       "    </tr>\n",
       "    <tr>\n",
       "      <th>350</th>\n",
       "      <td>Идеальный программист. Как стать профессионало...</td>\n",
       "      <td>['Роберт Мартин']</td>\n",
       "      <td>https://www.litres.ru/book/robert-s-martin/ide...</td>\n",
       "      <td>4.6</td>\n",
       "      <td>191</td>\n",
       "      <td>27</td>\n",
       "      <td>247</td>\n",
       "      <td>449</td>\n",
       "      <td>['Книга – истинный кладезь премудрости для опт...</td>\n",
       "      <td>12+</td>\n",
       "      <td>2011</td>\n",
       "      <td>1</td>\n",
       "    </tr>\n",
       "    <tr>\n",
       "      <th>496</th>\n",
       "      <td>Говорят, в IT много платят. Как построить успе...</td>\n",
       "      <td>['Елена Правдина']</td>\n",
       "      <td>https://www.litres.ru/book/elena-pravdina-2543...</td>\n",
       "      <td>4.3</td>\n",
       "      <td>66</td>\n",
       "      <td>27</td>\n",
       "      <td>291</td>\n",
       "      <td>379</td>\n",
       "      <td>['Книга написана профессиональным специалистом...</td>\n",
       "      <td>16+</td>\n",
       "      <td>2021</td>\n",
       "      <td>0</td>\n",
       "    </tr>\n",
       "    <tr>\n",
       "      <th>434</th>\n",
       "      <td>Базовые знания тестировщика веб-приложений</td>\n",
       "      <td>['Марина Охапкина', 'Вадим Охапкин']</td>\n",
       "      <td>https://www.litres.ru/book/vadim-ohapkin/bazov...</td>\n",
       "      <td>4.5</td>\n",
       "      <td>237</td>\n",
       "      <td>25</td>\n",
       "      <td>67</td>\n",
       "      <td>349</td>\n",
       "      <td>['Из любопытства просмотрела книгу и, как опыт...</td>\n",
       "      <td>12+</td>\n",
       "      <td>2015</td>\n",
       "      <td>0</td>\n",
       "    </tr>\n",
       "    <tr>\n",
       "      <th>151</th>\n",
       "      <td>#Сам себе программист. Как научиться программи...</td>\n",
       "      <td>['Кори Альтхофф']</td>\n",
       "      <td>https://www.litres.ru/book/kori-althoff/sam-se...</td>\n",
       "      <td>4.2</td>\n",
       "      <td>128</td>\n",
       "      <td>25</td>\n",
       "      <td>210</td>\n",
       "      <td>299</td>\n",
       "      <td>['Отличная книга чтобы начать программировать,...</td>\n",
       "      <td>12+</td>\n",
       "      <td>2017</td>\n",
       "      <td>0</td>\n",
       "    </tr>\n",
       "    <tr>\n",
       "      <th>231</th>\n",
       "      <td>Сделай видеоигру один и не свихнись</td>\n",
       "      <td>['Слава Грис']</td>\n",
       "      <td>https://www.litres.ru/audiobook/slava-gris/sde...</td>\n",
       "      <td>4.9</td>\n",
       "      <td>73</td>\n",
       "      <td>24</td>\n",
       "      <td>220</td>\n",
       "      <td>529</td>\n",
       "      <td>['Начну со слов \"Слава - моё почтение\".', 'Дей...</td>\n",
       "      <td>12+</td>\n",
       "      <td>2023</td>\n",
       "      <td>1</td>\n",
       "    </tr>\n",
       "    <tr>\n",
       "      <th>43</th>\n",
       "      <td>Сделай видеоигру один и не свихнись</td>\n",
       "      <td>['Слава Грис']</td>\n",
       "      <td>https://www.litres.ru/book/slava-gris/sdelay-v...</td>\n",
       "      <td>4.8</td>\n",
       "      <td>86</td>\n",
       "      <td>24</td>\n",
       "      <td>242</td>\n",
       "      <td>499</td>\n",
       "      <td>['Отличная книга для инди-разработчиков! Must ...</td>\n",
       "      <td>12+</td>\n",
       "      <td>2023</td>\n",
       "      <td>1</td>\n",
       "    </tr>\n",
       "  </tbody>\n",
       "</table>\n",
       "</div>"
      ],
      "text/plain": [
       "                                                  name  \\\n",
       "456                               Оптимизация в Python   \n",
       "4                                     Нейросети начало   \n",
       "208  Психбольница в руках пациентов. Алан Купер об ...   \n",
       "125  Теоретический минимум по Computer Science. Все...   \n",
       "350  Идеальный программист. Как стать профессионало...   \n",
       "496  Говорят, в IT много платят. Как построить успе...   \n",
       "434         Базовые знания тестировщика веб-приложений   \n",
       "151  #Сам себе программист. Как научиться программи...   \n",
       "231                Сделай видеоигру один и не свихнись   \n",
       "43                 Сделай видеоигру один и не свихнись   \n",
       "\n",
       "                                   author  \\\n",
       "456                      ['Джейд Картер']   \n",
       "4                        ['Джейд Картер']   \n",
       "208                        ['Алан Купер']   \n",
       "125            ['Владстон Феррейра Фило']   \n",
       "350                     ['Роберт Мартин']   \n",
       "496                    ['Елена Правдина']   \n",
       "434  ['Марина Охапкина', 'Вадим Охапкин']   \n",
       "151                     ['Кори Альтхофф']   \n",
       "231                        ['Слава Грис']   \n",
       "43                         ['Слава Грис']   \n",
       "\n",
       "                                                  link  rating  rating_count  \\\n",
       "456  https://www.litres.ru/book/dzheyd-karter/optim...     5.0           306   \n",
       "4    https://www.litres.ru/book/dzheyd-karter/neyro...     4.9           440   \n",
       "208  https://www.litres.ru/book/alan-kuper/psihboln...     4.0            64   \n",
       "125  https://www.litres.ru/book/vladston-ferreyra-f...     3.9            94   \n",
       "350  https://www.litres.ru/book/robert-s-martin/ide...     4.6           191   \n",
       "496  https://www.litres.ru/book/elena-pravdina-2543...     4.3            66   \n",
       "434  https://www.litres.ru/book/vadim-ohapkin/bazov...     4.5           237   \n",
       "151  https://www.litres.ru/book/kori-althoff/sam-se...     4.2           128   \n",
       "231  https://www.litres.ru/audiobook/slava-gris/sde...     4.9            73   \n",
       "43   https://www.litres.ru/book/slava-gris/sdelay-v...     4.8            86   \n",
       "\n",
       "     review_count  pages_count  price  \\\n",
       "456            41          252    690   \n",
       "4              37          102    690   \n",
       "208            30          502    599   \n",
       "125            28          224    599   \n",
       "350            27          247    449   \n",
       "496            27          291    379   \n",
       "434            25           67    349   \n",
       "151            25          210    299   \n",
       "231            24          220    529   \n",
       "43             24          242    499   \n",
       "\n",
       "                                          text_reviews  age  year  is_popular  \n",
       "456  ['Много интересных путей оптимизации показано....  12+  2023           1  \n",
       "4    ['Книга отличная. Давно хотела понять как все ...  12+  2023           1  \n",
       "208  ['хорошая книжка, но уже немного подотстает от...  16+  2004           0  \n",
       "125  ['Прекрасная книга. Рекомендовал и старшим шко...  16+  2017           0  \n",
       "350  ['Книга – истинный кладезь премудрости для опт...  12+  2011           1  \n",
       "496  ['Книга написана профессиональным специалистом...  16+  2021           0  \n",
       "434  ['Из любопытства просмотрела книгу и, как опыт...  12+  2015           0  \n",
       "151  ['Отличная книга чтобы начать программировать,...  12+  2017           0  \n",
       "231  ['Начну со слов \"Слава - моё почтение\".', 'Дей...  12+  2023           1  \n",
       "43   ['Отличная книга для инди-разработчиков! Must ...  12+  2023           1  "
      ]
     },
     "execution_count": 17,
     "metadata": {},
     "output_type": "execute_result"
    }
   ],
   "source": [
    "df.sort_values('review_count', ascending=False).head(10)"
   ]
  },
  {
   "cell_type": "markdown",
   "metadata": {},
   "source": [
    "9. Найдите среднюю длину отзыва (в символах). (2)"
   ]
  },
  {
   "cell_type": "code",
   "execution_count": 18,
   "metadata": {},
   "outputs": [
    {
     "data": {
      "text/plain": [
       "str"
      ]
     },
     "execution_count": 18,
     "metadata": {},
     "output_type": "execute_result"
    }
   ],
   "source": [
    "type(df.text_reviews.iloc[0])"
   ]
  },
  {
   "cell_type": "code",
   "execution_count": 19,
   "metadata": {},
   "outputs": [],
   "source": [
    "df.text_reviews = df.text_reviews.apply(eval)"
   ]
  },
  {
   "cell_type": "code",
   "execution_count": 20,
   "metadata": {},
   "outputs": [
    {
     "data": {
      "text/plain": [
       "np.float64(188.21044849679646)"
      ]
     },
     "execution_count": 20,
     "metadata": {},
     "output_type": "execute_result"
    }
   ],
   "source": [
    "df.text_reviews.explode().fillna('').apply(len).mean()"
   ]
  },
  {
   "cell_type": "markdown",
   "metadata": {},
   "source": [
    "10. Постройте таблицу корреляций числовых переменных. (1) Прокомментируйте результаты. (1)"
   ]
  },
  {
   "cell_type": "code",
   "execution_count": 21,
   "metadata": {},
   "outputs": [
    {
     "data": {
      "text/html": [
       "<div>\n",
       "<style scoped>\n",
       "    .dataframe tbody tr th:only-of-type {\n",
       "        vertical-align: middle;\n",
       "    }\n",
       "\n",
       "    .dataframe tbody tr th {\n",
       "        vertical-align: top;\n",
       "    }\n",
       "\n",
       "    .dataframe thead th {\n",
       "        text-align: right;\n",
       "    }\n",
       "</style>\n",
       "<table border=\"1\" class=\"dataframe\">\n",
       "  <thead>\n",
       "    <tr style=\"text-align: right;\">\n",
       "      <th></th>\n",
       "      <th>rating</th>\n",
       "      <th>rating_count</th>\n",
       "      <th>review_count</th>\n",
       "      <th>pages_count</th>\n",
       "      <th>price</th>\n",
       "      <th>year</th>\n",
       "      <th>is_popular</th>\n",
       "    </tr>\n",
       "  </thead>\n",
       "  <tbody>\n",
       "    <tr>\n",
       "      <th>rating</th>\n",
       "      <td>1.000000</td>\n",
       "      <td>0.249415</td>\n",
       "      <td>0.333485</td>\n",
       "      <td>0.438435</td>\n",
       "      <td>0.387656</td>\n",
       "      <td>0.294941</td>\n",
       "      <td>0.187601</td>\n",
       "    </tr>\n",
       "    <tr>\n",
       "      <th>rating_count</th>\n",
       "      <td>0.249415</td>\n",
       "      <td>1.000000</td>\n",
       "      <td>0.688348</td>\n",
       "      <td>0.095068</td>\n",
       "      <td>0.195649</td>\n",
       "      <td>0.130965</td>\n",
       "      <td>0.566682</td>\n",
       "    </tr>\n",
       "    <tr>\n",
       "      <th>review_count</th>\n",
       "      <td>0.333485</td>\n",
       "      <td>0.688348</td>\n",
       "      <td>1.000000</td>\n",
       "      <td>0.220526</td>\n",
       "      <td>0.247210</td>\n",
       "      <td>0.083654</td>\n",
       "      <td>0.427222</td>\n",
       "    </tr>\n",
       "    <tr>\n",
       "      <th>pages_count</th>\n",
       "      <td>0.438435</td>\n",
       "      <td>0.095068</td>\n",
       "      <td>0.220526</td>\n",
       "      <td>1.000000</td>\n",
       "      <td>0.577380</td>\n",
       "      <td>0.169515</td>\n",
       "      <td>0.071384</td>\n",
       "    </tr>\n",
       "    <tr>\n",
       "      <th>price</th>\n",
       "      <td>0.387656</td>\n",
       "      <td>0.195649</td>\n",
       "      <td>0.247210</td>\n",
       "      <td>0.577380</td>\n",
       "      <td>1.000000</td>\n",
       "      <td>0.414169</td>\n",
       "      <td>0.136410</td>\n",
       "    </tr>\n",
       "    <tr>\n",
       "      <th>year</th>\n",
       "      <td>0.294941</td>\n",
       "      <td>0.130965</td>\n",
       "      <td>0.083654</td>\n",
       "      <td>0.169515</td>\n",
       "      <td>0.414169</td>\n",
       "      <td>1.000000</td>\n",
       "      <td>0.148998</td>\n",
       "    </tr>\n",
       "    <tr>\n",
       "      <th>is_popular</th>\n",
       "      <td>0.187601</td>\n",
       "      <td>0.566682</td>\n",
       "      <td>0.427222</td>\n",
       "      <td>0.071384</td>\n",
       "      <td>0.136410</td>\n",
       "      <td>0.148998</td>\n",
       "      <td>1.000000</td>\n",
       "    </tr>\n",
       "  </tbody>\n",
       "</table>\n",
       "</div>"
      ],
      "text/plain": [
       "                rating  rating_count  review_count  pages_count     price  \\\n",
       "rating        1.000000      0.249415      0.333485     0.438435  0.387656   \n",
       "rating_count  0.249415      1.000000      0.688348     0.095068  0.195649   \n",
       "review_count  0.333485      0.688348      1.000000     0.220526  0.247210   \n",
       "pages_count   0.438435      0.095068      0.220526     1.000000  0.577380   \n",
       "price         0.387656      0.195649      0.247210     0.577380  1.000000   \n",
       "year          0.294941      0.130965      0.083654     0.169515  0.414169   \n",
       "is_popular    0.187601      0.566682      0.427222     0.071384  0.136410   \n",
       "\n",
       "                  year  is_popular  \n",
       "rating        0.294941    0.187601  \n",
       "rating_count  0.130965    0.566682  \n",
       "review_count  0.083654    0.427222  \n",
       "pages_count   0.169515    0.071384  \n",
       "price         0.414169    0.136410  \n",
       "year          1.000000    0.148998  \n",
       "is_popular    0.148998    1.000000  "
      ]
     },
     "execution_count": 21,
     "metadata": {},
     "output_type": "execute_result"
    }
   ],
   "source": [
    "df.loc[:, df.dtypes[df.dtypes != object].index].corr()"
   ]
  },
  {
   "cell_type": "markdown",
   "metadata": {},
   "source": [
    "- кол-во отзывов и кол-во оценок (0.69). логично\n",
    "- популярность и кол-во оценок, кол-во отзывов (0.57 и 0.43). интуитивно кажется логичным: люди больше взаимодействуют с популярными книгами\n",
    "- цена и кол-во страниц (0.58). натянутая гипотеза: длиннее книга, дороже печатать, значит, надо и продать дороже (хотя книги электронные, больше байтов по сети передавать что ли..)\n",
    "- рейтинг и кол-во оценок, отзывов, популярность (0.24, 0.33, 0.19). предположу, что популярное в среднем лучше оценивают "
   ]
  },
  {
   "cell_type": "markdown",
   "metadata": {},
   "source": [
    "11. Постройте диаграмму рассеяния (scatterplot) количества страниц и количества отзывов. Не забудьте подписать график и оси. (1) Прокомментируйте полученные результаты. (1)"
   ]
  },
  {
   "cell_type": "code",
   "execution_count": 22,
   "metadata": {},
   "outputs": [
    {
     "data": {
      "image/png": "[encoded data removed]",
      "text/plain": [
       "<Figure size 640x480 with 1 Axes>"
      ]
     },
     "metadata": {},
     "output_type": "display_data"
    }
   ],
   "source": [
    "df.plot.scatter('pages_count', 'review_count')\n",
    "plt.title('Диаграмма рассеяния количества страниц и количества отзывов')\n",
    "plt.xlabel('Количество страниц')\n",
    "plt.ylabel('Количество отзывов')\n",
    "plt.grid()\n",
    "plt.show()"
   ]
  },
  {
   "cell_type": "markdown",
   "metadata": {},
   "source": [
    "- большинство книг имеют небольшое количество отзывов, независимо от количества страниц\n",
    "- есть несколько книг с большим количеством страниц, но они не имеют значительного количества отзывов\n",
    "- некоторые книги, несмотря на относительно небольшое количество страниц, получили большее количество отзывов"
   ]
  },
  {
   "cell_type": "markdown",
   "metadata": {},
   "source": [
    "12. Постройте линейный график: по оси Х год, по оси Y количество книг. (1) Прокомментируйте. (1)"
   ]
  },
  {
   "cell_type": "code",
   "execution_count": 23,
   "metadata": {},
   "outputs": [
    {
     "data": {
      "image/png": "[encoded data removed]",
      "text/plain": [
       "<Figure size 640x480 with 1 Axes>"
      ]
     },
     "metadata": {},
     "output_type": "display_data"
    }
   ],
   "source": [
    "df.groupby('year').size().plot()\n",
    "plt.grid()\n",
    "plt.title('Количество книг')\n",
    "plt.xlabel('Год')\n",
    "plt.show()"
   ]
  },
  {
   "cell_type": "markdown",
   "metadata": {},
   "source": [
    "- виден резкий рост после ~2019 года\n",
    "- после пика в 2021 наблюдается снижение\n",
    "- книги по программированию до 1985 года в выборку не попали"
   ]
  },
  {
   "cell_type": "markdown",
   "metadata": {},
   "source": [
    "13. Постройте еще любые два графика по вашему усмотрению. (2) Прокомментируйте полученные результаты. (1.5)"
   ]
  },
  {
   "cell_type": "code",
   "execution_count": 24,
   "metadata": {},
   "outputs": [
    {
     "data": {
      "image/png": "[encoded data removed]",
      "text/plain": [
       "<Figure size 640x480 with 1 Axes>"
      ]
     },
     "metadata": {},
     "output_type": "display_data"
    }
   ],
   "source": [
    "df.groupby('year').price.median().plot()\n",
    "plt.title('Средняя цена книг, написанных в году')\n",
    "plt.grid()\n",
    "plt.show()"
   ]
  },
  {
   "cell_type": "markdown",
   "metadata": {},
   "source": [
    "- недавно вышедшие книги обычно дороже\n",
    "- книги с 2006 по 2014 (и 2000) наиболее дешевые\n",
    "- 1995 году были написаны книги, которые в среднем дороже всего сейчас"
   ]
  },
  {
   "cell_type": "code",
   "execution_count": 25,
   "metadata": {},
   "outputs": [],
   "source": [
    "df.author = df.author.apply(eval)"
   ]
  },
  {
   "cell_type": "code",
   "execution_count": 26,
   "metadata": {},
   "outputs": [
    {
     "data": {
      "image/png": "[encoded data removed]",
      "text/plain": [
       "<Figure size 640x480 with 1 Axes>"
      ]
     },
     "metadata": {},
     "output_type": "display_data"
    }
   ],
   "source": [
    "df.explode('author').groupby('author')[['price', 'rating']].mean().plot.scatter('rating', 'price')\n",
    "plt.title('Диаграма рассеивания среднего рейтинга книг автора и средней цены его книг')\n",
    "plt.xlabel('Рейтинг')\n",
    "plt.ylabel('Цена')\n",
    "plt.grid()\n",
    "plt.show()"
   ]
  },
  {
   "cell_type": "markdown",
   "metadata": {},
   "source": [
    "- нет явной взаимосвязи между рейтингом автора и ценой его книг\n",
    "- есть два автора, чьи книги заметно дороже\n",
    "- книги авторов чаще всего имеют оценку от 4 до 5 (либо не имеют вовсе)"
   ]
  },
  {
   "cell_type": "markdown",
   "metadata": {},
   "source": [
    "14. Постройте таблицу с авторами книг с именем автора, количество книг в датасете, средней оценкой книг, средним количеством отзывов. (2)."
   ]
  },
  {
   "cell_type": "code",
   "execution_count": 27,
   "metadata": {},
   "outputs": [
    {
     "data": {
      "text/html": [
       "<div>\n",
       "<style scoped>\n",
       "    .dataframe tbody tr th:only-of-type {\n",
       "        vertical-align: middle;\n",
       "    }\n",
       "\n",
       "    .dataframe tbody tr th {\n",
       "        vertical-align: top;\n",
       "    }\n",
       "\n",
       "    .dataframe thead th {\n",
       "        text-align: right;\n",
       "    }\n",
       "</style>\n",
       "<table border=\"1\" class=\"dataframe\">\n",
       "  <thead>\n",
       "    <tr style=\"text-align: right;\">\n",
       "      <th></th>\n",
       "      <th>author</th>\n",
       "      <th>books_num</th>\n",
       "      <th>mean_rating</th>\n",
       "      <th>mean_review_count</th>\n",
       "    </tr>\n",
       "  </thead>\n",
       "  <tbody>\n",
       "    <tr>\n",
       "      <th>670</th>\n",
       "      <td>П. А. Кулагин</td>\n",
       "      <td>1</td>\n",
       "      <td>0.0</td>\n",
       "      <td>0.0</td>\n",
       "    </tr>\n",
       "    <tr>\n",
       "      <th>59</th>\n",
       "      <td>А. Г. Мадера</td>\n",
       "      <td>1</td>\n",
       "      <td>0.0</td>\n",
       "      <td>0.0</td>\n",
       "    </tr>\n",
       "    <tr>\n",
       "      <th>137</th>\n",
       "      <td>Алина Мальгинова</td>\n",
       "      <td>1</td>\n",
       "      <td>5.0</td>\n",
       "      <td>4.0</td>\n",
       "    </tr>\n",
       "    <tr>\n",
       "      <th>726</th>\n",
       "      <td>С. В. Федотова</td>\n",
       "      <td>1</td>\n",
       "      <td>0.0</td>\n",
       "      <td>0.0</td>\n",
       "    </tr>\n",
       "    <tr>\n",
       "      <th>469</th>\n",
       "      <td>Ирв Кальб</td>\n",
       "      <td>1</td>\n",
       "      <td>4.4</td>\n",
       "      <td>3.0</td>\n",
       "    </tr>\n",
       "  </tbody>\n",
       "</table>\n",
       "</div>"
      ],
      "text/plain": [
       "               author  books_num  mean_rating  mean_review_count\n",
       "670     П. А. Кулагин          1          0.0                0.0\n",
       "59       А. Г. Мадера          1          0.0                0.0\n",
       "137  Алина Мальгинова          1          5.0                4.0\n",
       "726    С. В. Федотова          1          0.0                0.0\n",
       "469         Ирв Кальб          1          4.4                3.0"
      ]
     },
     "execution_count": 27,
     "metadata": {},
     "output_type": "execute_result"
    }
   ],
   "source": [
    "agg_df = df.explode('author').groupby('author').agg({\n",
    "    'author': 'size', 'rating': 'mean', 'review_count': 'mean'\n",
    "}).rename({\n",
    "    'author': 'books_num', 'rating': 'mean_rating', 'review_count': 'mean_review_count'\n",
    "}, axis=1).reset_index()\n",
    "agg_df.to_csv('author_agg_stats.csv', index=False)\n",
    "agg_df.sample(5)"
   ]
  },
  {
   "cell_type": "markdown",
   "metadata": {},
   "source": [
    "15. Что еще интересного можно увидеть в этом датасете? Просмотрите на данные и ответьте на какие-нибудь вопросы, на которые не ответили в предыдущим пункте. Мы никак не ограничиваем вашу фантазию! (3)."
   ]
  },
  {
   "cell_type": "markdown",
   "metadata": {},
   "source": []
  }
 ],
 "metadata": {
  "kernelspec": {
   "display_name": "python-entry-hse-JZsjHBha-py3.10",
   "language": "python",
   "name": "python3"
  },
  "language_info": {
   "codemirror_mode": {
    "name": "ipython",
    "version": 3
   },
   "file_extension": ".py",
   "mimetype": "text/x-python",
   "name": "python",
   "nbconvert_exporter": "python",
   "pygments_lexer": "ipython3",
   "version": "3.10.12"
  }
 },
 "nbformat": 4,
 "nbformat_minor": 2
}
